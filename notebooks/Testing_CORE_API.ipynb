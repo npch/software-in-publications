{
 "cells": [
  {
   "cell_type": "markdown",
   "metadata": {},
   "source": [
    "# Testing the CORE API"
   ]
  },
  {
   "cell_type": "code",
   "execution_count": 2,
   "metadata": {},
   "outputs": [],
   "source": [
    "import urllib.request\n",
    "import json"
   ]
  },
  {
   "cell_type": "code",
   "execution_count": 29,
   "metadata": {},
   "outputs": [],
   "source": [
    "# CORE API token\n",
    "core_key_file = '../secrets/core_api_key'\n",
    "with open(core_key_file, 'r') as f:\n",
    "    core_key = f.read().rstrip()\n",
    "    \n",
    "\n",
    "# Directory containing the data\n",
    "data_dir = '../data/'"
   ]
  },
  {
   "cell_type": "code",
   "execution_count": 30,
   "metadata": {},
   "outputs": [],
   "source": [
    "url = 'https://core.ac.uk:443/api-v2/articles/search/Blockchain?apiKey=' + core_key"
   ]
  },
  {
   "cell_type": "code",
   "execution_count": 31,
   "metadata": {},
   "outputs": [
    {
     "name": "stdout",
     "output_type": "stream",
     "text": [
      "https://core.ac.uk:443/api-v2/articles/get/43094299/download/pdf?apiKey=myQxUYrjFAeHRgGvJlbi9M4WC27pwD31\n"
     ]
    }
   ],
   "source": [
    "coreID = '43094299'\n",
    "\n",
    "# Get the full text as a PDF for an article\n",
    "request = 'https://core.ac.uk:443/api-v2/articles/get/{}/download/pdf?apiKey={}'.format(coreID, core_key)\n",
    "\n",
    "print(request)\n",
    "\n",
    "with urllib.request.urlopen(request) as response:\n",
    "    resp = response.read()\n",
    "\n",
    "output_file = data_dir + coreID + '.pdf'\n",
    "with open(output_file, 'wb') as f:\n",
    "    core_key = f.write(resp)\n",
    "\n",
    "f.close()\n"
   ]
  },
  {
   "cell_type": "markdown",
   "metadata": {},
   "source": [
    "## Find the CORE ID's of all papers in a particular year which have full text PDFs\n",
    "\n"
   ]
  },
  {
   "cell_type": "code",
   "execution_count": null,
   "metadata": {},
   "outputs": [],
   "source": []
  },
  {
   "cell_type": "markdown",
   "metadata": {},
   "source": [
    "## Find the resource type of any given DOI"
   ]
  },
  {
   "cell_type": "code",
   "execution_count": null,
   "metadata": {},
   "outputs": [],
   "source": [
    "# Some DOIs\n",
    "\n",
    "dois = ['http://doi.org/10.5281/zenodo.1433730','http://doi.org/10.5121/ijcsa.2018.8502']"
   ]
  },
  {
   "cell_type": "code",
   "execution_count": null,
   "metadata": {},
   "outputs": [],
   "source": [
    "# Check if a DOI is a DataCite DOI\n",
    "\n",
    "def isDataCiteDOI(doi):\n",
    "    \n",
    "    request = 'https://api.datacite.org/works/{}'.format(doi)\n",
    "    \n",
    "    try:\n",
    "        with urllib.request.urlopen(request) as response:\n",
    "            resp = response.read()\n",
    "        return True\n",
    "        \n",
    "    except HTTPError:\n",
    "        # If 404 then DOI is not a DataCite DOI\n",
    "        return False\n",
    "    "
   ]
  },
  {
   "cell_type": "code",
   "execution_count": 15,
   "metadata": {},
   "outputs": [
    {
     "ename": "NameError",
     "evalue": "name 'results' is not defined",
     "output_type": "error",
     "traceback": [
      "\u001b[0;31m---------------------------------------------------------------------------\u001b[0m",
      "\u001b[0;31mNameError\u001b[0m                                 Traceback (most recent call last)",
      "\u001b[0;32m<ipython-input-15-1594a3a14e8a>\u001b[0m in \u001b[0;36m<module>\u001b[0;34m\u001b[0m\n\u001b[1;32m     13\u001b[0m \u001b[0mcleanDOI\u001b[0m\u001b[0;34m(\u001b[0m\u001b[0;34m'http://doi.org/10.5281/zenodo.1433730'\u001b[0m\u001b[0;34m)\u001b[0m\u001b[0;34m\u001b[0m\u001b[0m\n\u001b[1;32m     14\u001b[0m \u001b[0mcleanDOI\u001b[0m\u001b[0;34m(\u001b[0m\u001b[0;34m'10.5281/zenodo.1433730'\u001b[0m\u001b[0;34m)\u001b[0m\u001b[0;34m\u001b[0m\u001b[0m\n\u001b[0;32m---> 15\u001b[0;31m \u001b[0mresults\u001b[0m\u001b[0;34m\u001b[0m\u001b[0m\n\u001b[0m",
      "\u001b[0;31mNameError\u001b[0m: name 'results' is not defined"
     ]
    }
   ],
   "source": [
    "# Clean a DOI to create the non-HTTP form\n",
    "# Uses the Crossref suggested regex '/^10.\\d{4,9}/[-._;()/:A-Z0-9]+$/i'\n",
    "\n",
    "import re\n",
    "\n",
    "def cleanDOI(doi):\n",
    "    \n",
    "    results = re.findall(r'/^10.\\d{4,9}/[-._;()/:A-Z0-9]+$/i', doi)\n",
    "    for result in results:\n",
    "        print(result)\n",
    "\n",
    "        \n",
    "cleanDOI('http://doi.org/10.5281/zenodo.1433730')\n",
    "cleanDOI('10.5281/zenodo.1433730')"
   ]
  },
  {
   "cell_type": "code",
   "execution_count": 3,
   "metadata": {},
   "outputs": [],
   "source": [
    "request = \"https://api.datacite.org/resource-types\"\n",
    "\n",
    "with urllib.request.urlopen(request) as response:\n",
    "    resp = response.read()"
   ]
  },
  {
   "cell_type": "code",
   "execution_count": 4,
   "metadata": {},
   "outputs": [
    {
     "data": {
      "text/plain": [
       "b'{\"data\":[{\"id\":\"audiovisual\",\"type\":\"resource-types\",\"attributes\":{\"title\":\"Audiovisual\",\"updated\":\"2016-09-21T00:00:00Z\"},\"relationships\":{}},{\"id\":\"collection\",\"type\":\"resource-types\",\"attributes\":{\"title\":\"Collection\",\"updated\":\"2016-09-21T00:00:00Z\"},\"relationships\":{}},{\"id\":\"data-paper\",\"type\":\"resource-types\",\"attributes\":{\"title\":\"DataPaper\",\"updated\":\"2016-09-21T00:00:00Z\"},\"relationships\":{}},{\"id\":\"dataset\",\"type\":\"resource-types\",\"attributes\":{\"title\":\"Dataset\",\"updated\":\"2016-09-21T00:00:00Z\"},\"relationships\":{}},{\"id\":\"event\",\"type\":\"resource-types\",\"attributes\":{\"title\":\"Event\",\"updated\":\"2016-09-21T00:00:00Z\"},\"relationships\":{}},{\"id\":\"image\",\"type\":\"resource-types\",\"attributes\":{\"title\":\"Image\",\"updated\":\"2016-09-21T00:00:00Z\"},\"relationships\":{}},{\"id\":\"interactive-resource\",\"type\":\"resource-types\",\"attributes\":{\"title\":\"InteractiveResource\",\"updated\":\"2016-09-21T00:00:00Z\"},\"relationships\":{}},{\"id\":\"model\",\"type\":\"resource-types\",\"attributes\":{\"title\":\"Model\",\"updated\":\"2016-09-21T00:00:00Z\"},\"relationships\":{}},{\"id\":\"physical-object\",\"type\":\"resource-types\",\"attributes\":{\"title\":\"PhysicalObject\",\"updated\":\"2016-09-21T00:00:00Z\"},\"relationships\":{}},{\"id\":\"service\",\"type\":\"resource-types\",\"attributes\":{\"title\":\"Service\",\"updated\":\"2016-09-21T00:00:00Z\"},\"relationships\":{}},{\"id\":\"software\",\"type\":\"resource-types\",\"attributes\":{\"title\":\"Software\",\"updated\":\"2016-09-21T00:00:00Z\"},\"relationships\":{}},{\"id\":\"sound\",\"type\":\"resource-types\",\"attributes\":{\"title\":\"Sound\",\"updated\":\"2016-09-21T00:00:00Z\"},\"relationships\":{}},{\"id\":\"text\",\"type\":\"resource-types\",\"attributes\":{\"title\":\"Text\",\"updated\":\"2016-09-21T00:00:00Z\"},\"relationships\":{}},{\"id\":\"workflow\",\"type\":\"resource-types\",\"attributes\":{\"title\":\"Workflow\",\"updated\":\"2016-09-21T00:00:00Z\"},\"relationships\":{}},{\"id\":\"other\",\"type\":\"resource-types\",\"attributes\":{\"title\":\"Other\",\"updated\":\"2016-09-21T00:00:00Z\"},\"relationships\":{}}],\"meta\":{\"total\":15,\"total-pages\":1,\"page\":1}}'"
      ]
     },
     "execution_count": 4,
     "metadata": {},
     "output_type": "execute_result"
    }
   ],
   "source": [
    "resp"
   ]
  },
  {
   "cell_type": "code",
   "execution_count": null,
   "metadata": {},
   "outputs": [],
   "source": []
  }
 ],
 "metadata": {
  "kernelspec": {
   "display_name": "Python 3",
   "language": "python",
   "name": "python3"
  },
  "language_info": {
   "codemirror_mode": {
    "name": "ipython",
    "version": 3
   },
   "file_extension": ".py",
   "mimetype": "text/x-python",
   "name": "python",
   "nbconvert_exporter": "python",
   "pygments_lexer": "ipython3",
   "version": "3.6.6"
  }
 },
 "nbformat": 4,
 "nbformat_minor": 2
}
